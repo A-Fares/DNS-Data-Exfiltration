{
 "cells": [
  {
   "cell_type": "code",
   "execution_count": 1,
   "metadata": {},
   "outputs": [],
   "source": [
    "import warnings\n",
    "warnings.filterwarnings('ignore')"
   ]
  },
  {
   "cell_type": "code",
   "execution_count": 2,
   "metadata": {},
   "outputs": [],
   "source": [
    "import pandas as pd\n",
    "import numpy as np\n",
    "from sklearn.metrics import f1_score, accuracy_score,confusion_matrix, recall_score, precision_score\n",
    "from sklearn.ensemble import RandomForestClassifier, IsolationForest\n",
    "import matplotlib.pyplot as plt\n",
    "import seaborn as sns\n",
    "from sklearn.preprocessing import MinMaxScaler\n",
    "from numpy import nan,inf\n",
    "from sklearn.preprocessing import LabelEncoder\n",
    "from sklearn.model_selection import train_test_split\n",
    "from sklearn import metrics\n",
    "import pickle\n",
    "import xgboost as xgb\n",
    "import seaborn as sns\n"
   ]
  },
  {
   "cell_type": "code",
   "execution_count": 3,
   "metadata": {},
   "outputs": [
    {
     "data": {
      "text/html": [
       "<div>\n",
       "<style scoped>\n",
       "    .dataframe tbody tr th:only-of-type {\n",
       "        vertical-align: middle;\n",
       "    }\n",
       "\n",
       "    .dataframe tbody tr th {\n",
       "        vertical-align: top;\n",
       "    }\n",
       "\n",
       "    .dataframe thead th {\n",
       "        text-align: right;\n",
       "    }\n",
       "</style>\n",
       "<table border=\"1\" class=\"dataframe\">\n",
       "  <thead>\n",
       "    <tr style=\"text-align: right;\">\n",
       "      <th></th>\n",
       "      <th>timestamp</th>\n",
       "      <th>FQDN_count</th>\n",
       "      <th>subdomain_length</th>\n",
       "      <th>upper</th>\n",
       "      <th>lower</th>\n",
       "      <th>numeric</th>\n",
       "      <th>entropy</th>\n",
       "      <th>special</th>\n",
       "      <th>labels</th>\n",
       "      <th>labels_max</th>\n",
       "      <th>labels_average</th>\n",
       "      <th>longest_word</th>\n",
       "      <th>sld</th>\n",
       "      <th>len</th>\n",
       "      <th>subdomain</th>\n",
       "      <th>Label</th>\n",
       "    </tr>\n",
       "  </thead>\n",
       "  <tbody>\n",
       "    <tr>\n",
       "      <th>0</th>\n",
       "      <td>58:50.7</td>\n",
       "      <td>24</td>\n",
       "      <td>7</td>\n",
       "      <td>0</td>\n",
       "      <td>10</td>\n",
       "      <td>8</td>\n",
       "      <td>2.054029</td>\n",
       "      <td>6</td>\n",
       "      <td>6</td>\n",
       "      <td>7</td>\n",
       "      <td>3.166667</td>\n",
       "      <td>4</td>\n",
       "      <td>224</td>\n",
       "      <td>11</td>\n",
       "      <td>1</td>\n",
       "      <td>1</td>\n",
       "    </tr>\n",
       "    <tr>\n",
       "      <th>1</th>\n",
       "      <td>58:50.3</td>\n",
       "      <td>24</td>\n",
       "      <td>7</td>\n",
       "      <td>0</td>\n",
       "      <td>10</td>\n",
       "      <td>8</td>\n",
       "      <td>2.054029</td>\n",
       "      <td>6</td>\n",
       "      <td>6</td>\n",
       "      <td>7</td>\n",
       "      <td>3.166667</td>\n",
       "      <td>4</td>\n",
       "      <td>224</td>\n",
       "      <td>11</td>\n",
       "      <td>1</td>\n",
       "      <td>1</td>\n",
       "    </tr>\n",
       "    <tr>\n",
       "      <th>2</th>\n",
       "      <td>58:49.9</td>\n",
       "      <td>26</td>\n",
       "      <td>9</td>\n",
       "      <td>0</td>\n",
       "      <td>10</td>\n",
       "      <td>10</td>\n",
       "      <td>2.742338</td>\n",
       "      <td>6</td>\n",
       "      <td>6</td>\n",
       "      <td>7</td>\n",
       "      <td>3.500000</td>\n",
       "      <td>2</td>\n",
       "      <td>192</td>\n",
       "      <td>13</td>\n",
       "      <td>1</td>\n",
       "      <td>1</td>\n",
       "    </tr>\n",
       "    <tr>\n",
       "      <th>3</th>\n",
       "      <td>58:49.5</td>\n",
       "      <td>26</td>\n",
       "      <td>9</td>\n",
       "      <td>0</td>\n",
       "      <td>10</td>\n",
       "      <td>10</td>\n",
       "      <td>2.742338</td>\n",
       "      <td>6</td>\n",
       "      <td>6</td>\n",
       "      <td>7</td>\n",
       "      <td>3.500000</td>\n",
       "      <td>2</td>\n",
       "      <td>192</td>\n",
       "      <td>13</td>\n",
       "      <td>1</td>\n",
       "      <td>1</td>\n",
       "    </tr>\n",
       "    <tr>\n",
       "      <th>4</th>\n",
       "      <td>58:49.1</td>\n",
       "      <td>27</td>\n",
       "      <td>10</td>\n",
       "      <td>0</td>\n",
       "      <td>10</td>\n",
       "      <td>11</td>\n",
       "      <td>2.767195</td>\n",
       "      <td>6</td>\n",
       "      <td>6</td>\n",
       "      <td>7</td>\n",
       "      <td>3.666667</td>\n",
       "      <td>2</td>\n",
       "      <td>192</td>\n",
       "      <td>14</td>\n",
       "      <td>1</td>\n",
       "      <td>1</td>\n",
       "    </tr>\n",
       "    <tr>\n",
       "      <th>5</th>\n",
       "      <td>58:48.7</td>\n",
       "      <td>27</td>\n",
       "      <td>10</td>\n",
       "      <td>0</td>\n",
       "      <td>10</td>\n",
       "      <td>11</td>\n",
       "      <td>2.767195</td>\n",
       "      <td>6</td>\n",
       "      <td>6</td>\n",
       "      <td>7</td>\n",
       "      <td>3.666667</td>\n",
       "      <td>2</td>\n",
       "      <td>192</td>\n",
       "      <td>14</td>\n",
       "      <td>1</td>\n",
       "      <td>1</td>\n",
       "    </tr>\n",
       "  </tbody>\n",
       "</table>\n",
       "</div>"
      ],
      "text/plain": [
       "  timestamp  FQDN_count  subdomain_length  upper  lower  numeric   entropy  \\\n",
       "0   58:50.7          24                 7      0     10        8  2.054029   \n",
       "1   58:50.3          24                 7      0     10        8  2.054029   \n",
       "2   58:49.9          26                 9      0     10       10  2.742338   \n",
       "3   58:49.5          26                 9      0     10       10  2.742338   \n",
       "4   58:49.1          27                10      0     10       11  2.767195   \n",
       "5   58:48.7          27                10      0     10       11  2.767195   \n",
       "\n",
       "   special  labels  labels_max  labels_average longest_word  sld  len  \\\n",
       "0        6       6           7        3.166667            4  224   11   \n",
       "1        6       6           7        3.166667            4  224   11   \n",
       "2        6       6           7        3.500000            2  192   13   \n",
       "3        6       6           7        3.500000            2  192   13   \n",
       "4        6       6           7        3.666667            2  192   14   \n",
       "5        6       6           7        3.666667            2  192   14   \n",
       "\n",
       "   subdomain  Label  \n",
       "0          1      1  \n",
       "1          1      1  \n",
       "2          1      1  \n",
       "3          1      1  \n",
       "4          1      1  \n",
       "5          1      1  "
      ]
     },
     "execution_count": 3,
     "metadata": {},
     "output_type": "execute_result"
    }
   ],
   "source": [
    "df = pd.read_csv('training_dataset.csv') \n",
    "df.head(6)"
   ]
  },
  {
   "cell_type": "code",
   "execution_count": 4,
   "metadata": {},
   "outputs": [
    {
     "name": "stdout",
     "output_type": "stream",
     "text": [
      "<class 'pandas.core.frame.DataFrame'>\n",
      "RangeIndex: 536138 entries, 0 to 536137\n",
      "Data columns (total 16 columns):\n",
      " #   Column            Non-Null Count   Dtype  \n",
      "---  ------            --------------   -----  \n",
      " 0   timestamp         536138 non-null  object \n",
      " 1   FQDN_count        536138 non-null  int64  \n",
      " 2   subdomain_length  536138 non-null  int64  \n",
      " 3   upper             536138 non-null  int64  \n",
      " 4   lower             536138 non-null  int64  \n",
      " 5   numeric           536138 non-null  int64  \n",
      " 6   entropy           536138 non-null  float64\n",
      " 7   special           536138 non-null  int64  \n",
      " 8   labels            536138 non-null  int64  \n",
      " 9   labels_max        536138 non-null  int64  \n",
      " 10  labels_average    536138 non-null  float64\n",
      " 11  longest_word      536124 non-null  object \n",
      " 12  sld               536138 non-null  object \n",
      " 13  len               536138 non-null  int64  \n",
      " 14  subdomain         536138 non-null  int64  \n",
      " 15  Label             536138 non-null  int64  \n",
      "dtypes: float64(2), int64(11), object(3)\n",
      "memory usage: 65.4+ MB\n"
     ]
    }
   ],
   "source": [
    "df.info()"
   ]
  },
  {
   "cell_type": "code",
   "execution_count": 5,
   "metadata": {},
   "outputs": [],
   "source": [
    "# df=df.drop('timestamp',axis=1)"
   ]
  },
  {
   "cell_type": "code",
   "execution_count": 6,
   "metadata": {},
   "outputs": [],
   "source": [
    "# df.head()"
   ]
  },
  {
   "cell_type": "code",
   "execution_count": 7,
   "metadata": {},
   "outputs": [
    {
     "data": {
      "text/plain": [
       "['timestamp', 'longest_word', 'sld']"
      ]
     },
     "execution_count": 7,
     "metadata": {},
     "output_type": "execute_result"
    }
   ],
   "source": [
    "categorical_column=[i for i in df.columns if df[i].dtype==\"object\"]\n",
    "categorical_column"
   ]
  },
  {
   "cell_type": "code",
   "execution_count": 8,
   "metadata": {},
   "outputs": [
    {
     "data": {
      "text/html": [
       "<div>\n",
       "<style scoped>\n",
       "    .dataframe tbody tr th:only-of-type {\n",
       "        vertical-align: middle;\n",
       "    }\n",
       "\n",
       "    .dataframe tbody tr th {\n",
       "        vertical-align: top;\n",
       "    }\n",
       "\n",
       "    .dataframe thead th {\n",
       "        text-align: right;\n",
       "    }\n",
       "</style>\n",
       "<table border=\"1\" class=\"dataframe\">\n",
       "  <thead>\n",
       "    <tr style=\"text-align: right;\">\n",
       "      <th></th>\n",
       "      <th>FQDN_count</th>\n",
       "      <th>subdomain_length</th>\n",
       "      <th>upper</th>\n",
       "      <th>lower</th>\n",
       "      <th>numeric</th>\n",
       "      <th>entropy</th>\n",
       "      <th>special</th>\n",
       "      <th>labels</th>\n",
       "      <th>labels_max</th>\n",
       "      <th>labels_average</th>\n",
       "      <th>len</th>\n",
       "      <th>subdomain</th>\n",
       "      <th>Label</th>\n",
       "    </tr>\n",
       "  </thead>\n",
       "  <tbody>\n",
       "    <tr>\n",
       "      <th>0</th>\n",
       "      <td>24</td>\n",
       "      <td>7</td>\n",
       "      <td>0</td>\n",
       "      <td>10</td>\n",
       "      <td>8</td>\n",
       "      <td>2.054029</td>\n",
       "      <td>6</td>\n",
       "      <td>6</td>\n",
       "      <td>7</td>\n",
       "      <td>3.166667</td>\n",
       "      <td>11</td>\n",
       "      <td>1</td>\n",
       "      <td>1</td>\n",
       "    </tr>\n",
       "    <tr>\n",
       "      <th>1</th>\n",
       "      <td>24</td>\n",
       "      <td>7</td>\n",
       "      <td>0</td>\n",
       "      <td>10</td>\n",
       "      <td>8</td>\n",
       "      <td>2.054029</td>\n",
       "      <td>6</td>\n",
       "      <td>6</td>\n",
       "      <td>7</td>\n",
       "      <td>3.166667</td>\n",
       "      <td>11</td>\n",
       "      <td>1</td>\n",
       "      <td>1</td>\n",
       "    </tr>\n",
       "    <tr>\n",
       "      <th>2</th>\n",
       "      <td>26</td>\n",
       "      <td>9</td>\n",
       "      <td>0</td>\n",
       "      <td>10</td>\n",
       "      <td>10</td>\n",
       "      <td>2.742338</td>\n",
       "      <td>6</td>\n",
       "      <td>6</td>\n",
       "      <td>7</td>\n",
       "      <td>3.500000</td>\n",
       "      <td>13</td>\n",
       "      <td>1</td>\n",
       "      <td>1</td>\n",
       "    </tr>\n",
       "    <tr>\n",
       "      <th>3</th>\n",
       "      <td>26</td>\n",
       "      <td>9</td>\n",
       "      <td>0</td>\n",
       "      <td>10</td>\n",
       "      <td>10</td>\n",
       "      <td>2.742338</td>\n",
       "      <td>6</td>\n",
       "      <td>6</td>\n",
       "      <td>7</td>\n",
       "      <td>3.500000</td>\n",
       "      <td>13</td>\n",
       "      <td>1</td>\n",
       "      <td>1</td>\n",
       "    </tr>\n",
       "    <tr>\n",
       "      <th>4</th>\n",
       "      <td>27</td>\n",
       "      <td>10</td>\n",
       "      <td>0</td>\n",
       "      <td>10</td>\n",
       "      <td>11</td>\n",
       "      <td>2.767195</td>\n",
       "      <td>6</td>\n",
       "      <td>6</td>\n",
       "      <td>7</td>\n",
       "      <td>3.666667</td>\n",
       "      <td>14</td>\n",
       "      <td>1</td>\n",
       "      <td>1</td>\n",
       "    </tr>\n",
       "    <tr>\n",
       "      <th>...</th>\n",
       "      <td>...</td>\n",
       "      <td>...</td>\n",
       "      <td>...</td>\n",
       "      <td>...</td>\n",
       "      <td>...</td>\n",
       "      <td>...</td>\n",
       "      <td>...</td>\n",
       "      <td>...</td>\n",
       "      <td>...</td>\n",
       "      <td>...</td>\n",
       "      <td>...</td>\n",
       "      <td>...</td>\n",
       "      <td>...</td>\n",
       "    </tr>\n",
       "    <tr>\n",
       "      <th>536133</th>\n",
       "      <td>27</td>\n",
       "      <td>10</td>\n",
       "      <td>0</td>\n",
       "      <td>10</td>\n",
       "      <td>11</td>\n",
       "      <td>2.767195</td>\n",
       "      <td>6</td>\n",
       "      <td>6</td>\n",
       "      <td>7</td>\n",
       "      <td>3.666667</td>\n",
       "      <td>14</td>\n",
       "      <td>1</td>\n",
       "      <td>0</td>\n",
       "    </tr>\n",
       "    <tr>\n",
       "      <th>536134</th>\n",
       "      <td>27</td>\n",
       "      <td>10</td>\n",
       "      <td>0</td>\n",
       "      <td>10</td>\n",
       "      <td>11</td>\n",
       "      <td>2.767195</td>\n",
       "      <td>6</td>\n",
       "      <td>6</td>\n",
       "      <td>7</td>\n",
       "      <td>3.666667</td>\n",
       "      <td>14</td>\n",
       "      <td>1</td>\n",
       "      <td>0</td>\n",
       "    </tr>\n",
       "    <tr>\n",
       "      <th>536135</th>\n",
       "      <td>25</td>\n",
       "      <td>8</td>\n",
       "      <td>0</td>\n",
       "      <td>10</td>\n",
       "      <td>9</td>\n",
       "      <td>2.556642</td>\n",
       "      <td>6</td>\n",
       "      <td>6</td>\n",
       "      <td>7</td>\n",
       "      <td>3.333333</td>\n",
       "      <td>12</td>\n",
       "      <td>1</td>\n",
       "      <td>0</td>\n",
       "    </tr>\n",
       "    <tr>\n",
       "      <th>536136</th>\n",
       "      <td>25</td>\n",
       "      <td>8</td>\n",
       "      <td>0</td>\n",
       "      <td>10</td>\n",
       "      <td>9</td>\n",
       "      <td>2.556642</td>\n",
       "      <td>6</td>\n",
       "      <td>6</td>\n",
       "      <td>7</td>\n",
       "      <td>3.333333</td>\n",
       "      <td>12</td>\n",
       "      <td>1</td>\n",
       "      <td>0</td>\n",
       "    </tr>\n",
       "    <tr>\n",
       "      <th>536137</th>\n",
       "      <td>27</td>\n",
       "      <td>10</td>\n",
       "      <td>0</td>\n",
       "      <td>10</td>\n",
       "      <td>11</td>\n",
       "      <td>2.570417</td>\n",
       "      <td>6</td>\n",
       "      <td>6</td>\n",
       "      <td>7</td>\n",
       "      <td>3.666667</td>\n",
       "      <td>14</td>\n",
       "      <td>1</td>\n",
       "      <td>0</td>\n",
       "    </tr>\n",
       "  </tbody>\n",
       "</table>\n",
       "<p>536138 rows × 13 columns</p>\n",
       "</div>"
      ],
      "text/plain": [
       "        FQDN_count  subdomain_length  upper  lower  numeric   entropy  \\\n",
       "0               24                 7      0     10        8  2.054029   \n",
       "1               24                 7      0     10        8  2.054029   \n",
       "2               26                 9      0     10       10  2.742338   \n",
       "3               26                 9      0     10       10  2.742338   \n",
       "4               27                10      0     10       11  2.767195   \n",
       "...            ...               ...    ...    ...      ...       ...   \n",
       "536133          27                10      0     10       11  2.767195   \n",
       "536134          27                10      0     10       11  2.767195   \n",
       "536135          25                 8      0     10        9  2.556642   \n",
       "536136          25                 8      0     10        9  2.556642   \n",
       "536137          27                10      0     10       11  2.570417   \n",
       "\n",
       "        special  labels  labels_max  labels_average  len  subdomain  Label  \n",
       "0             6       6           7        3.166667   11          1      1  \n",
       "1             6       6           7        3.166667   11          1      1  \n",
       "2             6       6           7        3.500000   13          1      1  \n",
       "3             6       6           7        3.500000   13          1      1  \n",
       "4             6       6           7        3.666667   14          1      1  \n",
       "...         ...     ...         ...             ...  ...        ...    ...  \n",
       "536133        6       6           7        3.666667   14          1      0  \n",
       "536134        6       6           7        3.666667   14          1      0  \n",
       "536135        6       6           7        3.333333   12          1      0  \n",
       "536136        6       6           7        3.333333   12          1      0  \n",
       "536137        6       6           7        3.666667   14          1      0  \n",
       "\n",
       "[536138 rows x 13 columns]"
      ]
     },
     "execution_count": 8,
     "metadata": {},
     "output_type": "execute_result"
    }
   ],
   "source": [
    "for cat in categorical_column:\n",
    "    df=df.drop(cat ,axis=1)\n",
    "df    "
   ]
  },
  {
   "cell_type": "code",
   "execution_count": 9,
   "metadata": {},
   "outputs": [],
   "source": [
    "# categorical_column=[i for i in df.columns if df[i].dtype==\"object\"]\n",
    "\n",
    "# le = LabelEncoder()\n",
    "# for f in categorical_column: \n",
    "#     df[f] = le.fit_transform(df[f])\n",
    "# df.head()"
   ]
  },
  {
   "cell_type": "code",
   "execution_count": 10,
   "metadata": {},
   "outputs": [],
   "source": [
    "# splitting features and labels\n",
    "X = df.drop('Label',axis=1) \n",
    "y = df['Label']"
   ]
  },
  {
   "cell_type": "code",
   "execution_count": 11,
   "metadata": {},
   "outputs": [],
   "source": [
    "X_train, X_test, y_train, y_test = train_test_split(X, y, test_size=0.3, random_state=42)"
   ]
  },
  {
   "cell_type": "markdown",
   "metadata": {},
   "source": [
    "## IsolationForest Classifier"
   ]
  },
  {
   "cell_type": "code",
   "execution_count": 12,
   "metadata": {},
   "outputs": [],
   "source": [
    "clf=IsolationForest(n_estimators=100, max_samples='auto', contamination=float(.12),\n",
    "                    max_features=1.0, bootstrap=False, n_jobs=-1, random_state=42, verbose=0)\n",
    "clf.fit(X_train, y_train)\n",
    "y_pred = clf.predict(X_test)\n",
    "y_pred[y_pred==-1]=0"
   ]
  },
  {
   "cell_type": "code",
   "execution_count": 38,
   "metadata": {},
   "outputs": [
    {
     "name": "stdout",
     "output_type": "stream",
     "text": [
      "Accuracy = 0.5869486825580383 \n",
      " Recall = 0.9260995278863313 \n",
      " Percision = 0.5778853743797925 \n",
      " f1_score = 0.7116818414588632\n",
      "\n",
      "Classification report: \n",
      "               precision    recall  f1-score   support\n",
      "\n",
      "           0       0.65      0.17      0.27     72304\n",
      "           1       0.58      0.93      0.71     88538\n",
      "\n",
      "    accuracy                           0.59    160842\n",
      "   macro avg       0.62      0.55      0.49    160842\n",
      "weighted avg       0.61      0.59      0.51    160842\n",
      "\n"
     ]
    },
    {
     "data": {
      "text/plain": [
       "<AxesSubplot:>"
      ]
     },
     "execution_count": 38,
     "metadata": {},
     "output_type": "execute_result"
    },
    {
     "data": {
      "image/png": "[encoded data removed]",
      "text/plain": [
       "<Figure size 432x288 with 2 Axes>"
      ]
     },
     "metadata": {
      "needs_background": "light"
     },
     "output_type": "display_data"
    }
   ],
   "source": [
    "accuracy = metrics.accuracy_score(y_test,y_pred)\n",
    "recall= metrics.recall_score(y_test,y_pred)\n",
    "precision=metrics.precision_score(y_test,y_pred)\n",
    "f1score=metrics.f1_score(y_test,y_pred)\n",
    "\n",
    "print(f\"Accuracy = {accuracy} \\n Recall = {recall} \\n Percision = {precision} \\n f1_score = {f1score}\\n\")\n",
    "print(\"Classification report: \\n\",metrics.classification_report(y_test,y_pred))\n",
    "sns.heatmap(metrics.confusion_matrix(y_test,y_pred), annot=True, cmap='PuBuGn_r', fmt='g')"
   ]
  },
  {
   "cell_type": "markdown",
   "metadata": {},
   "source": [
    "## RandomForest Classifier"
   ]
  },
  {
   "cell_type": "code",
   "execution_count": 39,
   "metadata": {},
   "outputs": [],
   "source": [
    "rf_cls = RandomForestClassifier(n_estimators=100)\n",
    "rf_cls.fit(X_train.values, y_train.values)\n",
    "y_pred = rf_cls.predict(X_test)"
   ]
  },
  {
   "cell_type": "code",
   "execution_count": 40,
   "metadata": {},
   "outputs": [
    {
     "name": "stdout",
     "output_type": "stream",
     "text": [
      "Accuracy = 0.8220303154648662 \n",
      " Recall = 0.9996385732679753 \n",
      " Percision = 0.7558219967719622 \n",
      " f1_score = 0.8607983971756056\n",
      "\n",
      "Classification report: \n",
      "               precision    recall  f1-score   support\n",
      "\n",
      "           0       1.00      0.60      0.75     72304\n",
      "           1       0.76      1.00      0.86     88538\n",
      "\n",
      "    accuracy                           0.82    160842\n",
      "   macro avg       0.88      0.80      0.81    160842\n",
      "weighted avg       0.87      0.82      0.81    160842\n",
      "\n",
      "Confusion matrix: \n",
      " [[43711 28593]\n",
      " [   32 88506]]\n"
     ]
    },
    {
     "data": {
      "text/plain": [
       "<AxesSubplot:>"
      ]
     },
     "execution_count": 40,
     "metadata": {},
     "output_type": "execute_result"
    },
    {
     "data": {
      "image/png": "[encoded data removed]",
      "text/plain": [
       "<Figure size 432x288 with 2 Axes>"
      ]
     },
     "metadata": {
      "needs_background": "light"
     },
     "output_type": "display_data"
    }
   ],
   "source": [
    "accuracy = metrics.accuracy_score(y_test,y_pred)\n",
    "recall= metrics.recall_score(y_test,y_pred)\n",
    "precision=metrics.precision_score(y_test,y_pred)\n",
    "f1score=metrics.f1_score(y_test,y_pred)\n",
    "\n",
    "print(f\"Accuracy = {accuracy} \\n Recall = {recall} \\n Percision = {precision} \\n f1_score = {f1score}\\n\")\n",
    "print(\"Classification report: \\n\",metrics.classification_report(y_test,y_pred))\n",
    "print(\"Confusion matrix: \\n\",metrics.confusion_matrix(y_test,y_pred))\n",
    "sns.heatmap(metrics.confusion_matrix(y_test,y_pred), annot=True, cmap='PuBuGn_r', fmt='g')"
   ]
  },
  {
   "cell_type": "code",
   "execution_count": 41,
   "metadata": {},
   "outputs": [],
   "source": [
    "with open('models\\model_rf.sav', 'wb') as file:\n",
    "    pickle.dump(rf_cls, file)"
   ]
  },
  {
   "cell_type": "markdown",
   "metadata": {},
   "source": [
    "## XGboost"
   ]
  },
  {
   "cell_type": "code",
   "execution_count": 42,
   "metadata": {},
   "outputs": [
    {
     "name": "stdout",
     "output_type": "stream",
     "text": [
      "Fitting a xgboost model...\n",
      "[22:09:07] WARNING: C:/Users/Administrator/workspace/xgboost-win64_release_1.5.1/src/learner.cc:1115: Starting in XGBoost 1.3.0, the default evaluation metric used with the objective 'binary:logistic' was changed from 'error' to 'logloss'. Explicitly set eval_metric if you'd like to restore the old behavior.\n"
     ]
    }
   ],
   "source": [
    "clf_xg = xgb.XGBClassifier(\n",
    "    n_estimators=200,\n",
    "    n_jobs=4,\n",
    "    max_depth=9,\n",
    "    learning_rate=0.05,\n",
    "    subsample=0.9,\n",
    "    colsample_bytree=0.9,\n",
    "    tree_method=\"gpu_hist\",\n",
    "    missing=-999,\n",
    "    use_label_encoder=False,\n",
    ")\n",
    "\n",
    "print(\"Fitting a xgboost model...\")\n",
    "\n",
    "clf_xg.fit(X_train.values, y_train.values)\n",
    "y_pred = clf_xg.predict(X_test)"
   ]
  },
  {
   "cell_type": "code",
   "execution_count": 43,
   "metadata": {},
   "outputs": [
    {
     "name": "stdout",
     "output_type": "stream",
     "text": [
      "Accuracy = 0.8220116636201987 \n",
      " Recall = 0.9995821003410965 \n",
      " Percision = 0.75582447989615 \n",
      " f1_score = 0.8607790692019647\n",
      "\n",
      "Classification report: \n",
      "               precision    recall  f1-score   support\n",
      "\n",
      "           0       1.00      0.60      0.75     72304\n",
      "           1       0.76      1.00      0.86     88538\n",
      "\n",
      "    accuracy                           0.82    160842\n",
      "   macro avg       0.88      0.80      0.81    160842\n",
      "weighted avg       0.87      0.82      0.81    160842\n",
      "\n",
      "Confusion matrix: \n",
      " [[43713 28591]\n",
      " [   37 88501]]\n"
     ]
    },
    {
     "data": {
      "text/plain": [
       "<AxesSubplot:>"
      ]
     },
     "execution_count": 43,
     "metadata": {},
     "output_type": "execute_result"
    },
    {
     "data": {
      "image/png": "[encoded data removed]",
      "text/plain": [
       "<Figure size 432x288 with 2 Axes>"
      ]
     },
     "metadata": {
      "needs_background": "light"
     },
     "output_type": "display_data"
    }
   ],
   "source": [
    "accuracy = metrics.accuracy_score(y_test,y_pred)\n",
    "recall= metrics.recall_score(y_test,y_pred)\n",
    "precision=metrics.precision_score(y_test,y_pred)\n",
    "f1score=metrics.f1_score(y_test,y_pred)\n",
    "\n",
    "print(f\"Accuracy = {accuracy} \\n Recall = {recall} \\n Percision = {precision} \\n f1_score = {f1score}\\n\")\n",
    "print(\"Classification report: \\n\",metrics.classification_report(y_test,y_pred))\n",
    "print(\"Confusion matrix: \\n\",metrics.confusion_matrix(y_test,y_pred))\n",
    "sns.heatmap(metrics.confusion_matrix(y_test,y_pred), annot=True, cmap='PuBuGn_r', fmt='g')"
   ]
  },
  {
   "cell_type": "code",
   "execution_count": null,
   "metadata": {},
   "outputs": [],
   "source": []
  }
 ],
 "metadata": {
  "kernelspec": {
   "display_name": "Python 3 (ipykernel)",
   "language": "python",
   "name": "python3"
  },
  "language_info": {
   "codemirror_mode": {
    "name": "ipython",
    "version": 3
   },
   "file_extension": ".py",
   "mimetype": "text/x-python",
   "name": "python",
   "nbconvert_exporter": "python",
   "pygments_lexer": "ipython3",
   "version": "3.7.11"
  }
 },
 "nbformat": 4,
 "nbformat_minor": 2
}
